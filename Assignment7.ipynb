{
 "cells": [
  {
   "cell_type": "markdown",
   "metadata": {},
   "source": [
    "1.generate first n number of fibonacci numbers.take n value from user?"
   ]
  },
  {
   "cell_type": "code",
   "execution_count": 1,
   "metadata": {},
   "outputs": [
    {
     "name": "stdout",
     "output_type": "stream",
     "text": [
      "enter the number7\n",
      "0  \n",
      "1  \n",
      "2  \n",
      "4  \n",
      "8  \n",
      "16  \n",
      "32  \n"
     ]
    }
   ],
   "source": [
    "def Fibonacci(n):\n",
    "    f1=0\n",
    "    f2=1\n",
    "    if n<1:\n",
    "        print(\"incorrect input:\")\n",
    "    for i in range(0, n):\n",
    "        print(f1, \" \")\n",
    "        f1=f2\n",
    "        next=f1+f2\n",
    "        f2=next\n",
    "n=int(input(\"enter the number\"))\n",
    "Fibonacci(n)\n",
    "        \n",
    "        \n",
    "        \n",
    "        "
   ]
  },
  {
   "cell_type": "markdown",
   "metadata": {},
   "source": [
    "2.take 10 inputs from keyboard using loop and print their average value on the screen?"
   ]
  },
  {
   "cell_type": "code",
   "execution_count": 8,
   "metadata": {},
   "outputs": [
    {
     "name": "stdout",
     "output_type": "stream",
     "text": [
      "input some integers to calculate their average. \n",
      "1\n",
      "5\n",
      "9\n",
      "4\n",
      "7\n",
      "2\n",
      "8\n",
      "9\n",
      "3\n",
      "2\n",
      "average of the above numbers are:  5.0\n"
     ]
    }
   ],
   "source": [
    "print(\"input some integers to calculate their average. \")\n",
    "count=0\n",
    "sum=0\n",
    "for i in range(0,10):\n",
    "    number = int(input(\"\"))\n",
    "    sum = sum + number\n",
    "    count +=1\n",
    "if count == 0:\n",
    "    print(\"input some numbers\")\n",
    "else:\n",
    "    print(\"average of the above numbers are: \", sum / (count))"
   ]
  },
  {
   "cell_type": "markdown",
   "metadata": {},
   "source": [
    "### 3.print the following pattern using loop?#*\n",
    "#**\n",
    "#***\n",
    "#****"
   ]
  },
  {
   "cell_type": "code",
   "execution_count": 8,
   "metadata": {},
   "outputs": [
    {
     "name": "stdout",
     "output_type": "stream",
     "text": [
      "*\n",
      "**\n",
      "***\n",
      "****\n"
     ]
    }
   ],
   "source": [
    "i=1\n",
    "while i<=4:\n",
    "    print(\"*\"*i)\n",
    "    i=i+1"
   ]
  },
  {
   "cell_type": "markdown",
   "metadata": {},
   "source": [
    "4.write a program to find length of the string \"refrigerator\"without using len()function?"
   ]
  },
  {
   "cell_type": "code",
   "execution_count": 9,
   "metadata": {},
   "outputs": [
    {
     "name": "stdout",
     "output_type": "stream",
     "text": [
      "12\n"
     ]
    }
   ],
   "source": [
    "a=\"refrigerator\"\n",
    "count=0\n",
    "for i in a:\n",
    "    count=count+1\n",
    "print(count)    "
   ]
  },
  {
   "cell_type": "markdown",
   "metadata": {},
   "source": [
    "5.write a python program to count the number of characters(character frequency)in a string?"
   ]
  },
  {
   "cell_type": "code",
   "execution_count": 10,
   "metadata": {},
   "outputs": [
    {
     "name": "stdout",
     "output_type": "stream",
     "text": [
      "{'g': 2, 'o': 3, 'l': 1, 'e': 1, '.': 1, 'c': 1, 'm': 1}\n"
     ]
    }
   ],
   "source": [
    "def char_frequency(str1):\n",
    "    dict={}\n",
    "    for n in str1:\n",
    "        keys=dict.keys()\n",
    "        if n in keys:\n",
    "            dict[n]+=1\n",
    "        else:\n",
    "            dict[n]=1\n",
    "    return dict\n",
    "print(char_frequency('google.com'))"
   ]
  },
  {
   "cell_type": "markdown",
   "metadata": {},
   "source": [
    "6.write a pythonscrip that takes input from user and displays that input back in upper and lower cases?"
   ]
  },
  {
   "cell_type": "code",
   "execution_count": 11,
   "metadata": {},
   "outputs": [
    {
     "name": "stdout",
     "output_type": "stream",
     "text": [
      "what's your favourite language:english\n",
      "my favourite language is ENGLISH\n",
      "my favourite language is english\n"
     ]
    }
   ],
   "source": [
    "user_input=input(\"what's your favourite language:\")\n",
    "print(\"my favourite language is\",user_input.upper())\n",
    "print(\"my favourite language is\",user_input.lower())"
   ]
  },
  {
   "cell_type": "markdown",
   "metadata": {},
   "source": [
    "7.write a python program to count occurence of a substring in a string?"
   ]
  },
  {
   "cell_type": "code",
   "execution_count": 14,
   "metadata": {},
   "outputs": [
    {
     "name": "stdout",
     "output_type": "stream",
     "text": [
      "\n",
      "1\n"
     ]
    }
   ],
   "source": [
    "str1='soundharya is a beautiful and very active and dancer.'\n",
    "print()\n",
    "print(str1.count('beautiful'))"
   ]
  }
 ],
 "metadata": {
  "kernelspec": {
   "display_name": "Python 3",
   "language": "python",
   "name": "python3"
  },
  "language_info": {
   "codemirror_mode": {
    "name": "ipython",
    "version": 3
   },
   "file_extension": ".py",
   "mimetype": "text/x-python",
   "name": "python",
   "nbconvert_exporter": "python",
   "pygments_lexer": "ipython3",
   "version": "3.7.4"
  }
 },
 "nbformat": 4,
 "nbformat_minor": 2
}
